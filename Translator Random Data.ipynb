{
 "cells": [
  {
   "cell_type": "markdown",
   "id": "3f67fcab",
   "metadata": {},
   "source": [
    "# Translator Random Data"
   ]
  },
  {
   "cell_type": "code",
   "execution_count": null,
   "id": "24898e64",
   "metadata": {},
   "outputs": [],
   "source": [
    "# pip install googletrans==4.0.0-rc1"
   ]
  },
  {
   "cell_type": "code",
   "execution_count": null,
   "id": "0a1e81d3",
   "metadata": {},
   "outputs": [],
   "source": [
    "# pip install silly"
   ]
  },
  {
   "cell_type": "code",
   "execution_count": 94,
   "id": "31c13b54",
   "metadata": {},
   "outputs": [],
   "source": [
    "# Import libreries\n",
    "import googletrans\n",
    "from googletrans import Translator, constants\n",
    "from pprint import pprint"
   ]
  },
  {
   "cell_type": "code",
   "execution_count": 14,
   "id": "4cb2b565",
   "metadata": {},
   "outputs": [],
   "source": [
    "import silly"
   ]
  },
  {
   "cell_type": "code",
   "execution_count": 3,
   "id": "dc7f569c",
   "metadata": {},
   "outputs": [
    {
     "name": "stdout",
     "output_type": "stream",
     "text": [
      "{'af': 'afrikaans', 'sq': 'albanian', 'am': 'amharic', 'ar': 'arabic', 'hy': 'armenian', 'az': 'azerbaijani', 'eu': 'basque', 'be': 'belarusian', 'bn': 'bengali', 'bs': 'bosnian', 'bg': 'bulgarian', 'ca': 'catalan', 'ceb': 'cebuano', 'ny': 'chichewa', 'zh-cn': 'chinese (simplified)', 'zh-tw': 'chinese (traditional)', 'co': 'corsican', 'hr': 'croatian', 'cs': 'czech', 'da': 'danish', 'nl': 'dutch', 'en': 'english', 'eo': 'esperanto', 'et': 'estonian', 'tl': 'filipino', 'fi': 'finnish', 'fr': 'french', 'fy': 'frisian', 'gl': 'galician', 'ka': 'georgian', 'de': 'german', 'el': 'greek', 'gu': 'gujarati', 'ht': 'haitian creole', 'ha': 'hausa', 'haw': 'hawaiian', 'iw': 'hebrew', 'he': 'hebrew', 'hi': 'hindi', 'hmn': 'hmong', 'hu': 'hungarian', 'is': 'icelandic', 'ig': 'igbo', 'id': 'indonesian', 'ga': 'irish', 'it': 'italian', 'ja': 'japanese', 'jw': 'javanese', 'kn': 'kannada', 'kk': 'kazakh', 'km': 'khmer', 'ko': 'korean', 'ku': 'kurdish (kurmanji)', 'ky': 'kyrgyz', 'lo': 'lao', 'la': 'latin', 'lv': 'latvian', 'lt': 'lithuanian', 'lb': 'luxembourgish', 'mk': 'macedonian', 'mg': 'malagasy', 'ms': 'malay', 'ml': 'malayalam', 'mt': 'maltese', 'mi': 'maori', 'mr': 'marathi', 'mn': 'mongolian', 'my': 'myanmar (burmese)', 'ne': 'nepali', 'no': 'norwegian', 'or': 'odia', 'ps': 'pashto', 'fa': 'persian', 'pl': 'polish', 'pt': 'portuguese', 'pa': 'punjabi', 'ro': 'romanian', 'ru': 'russian', 'sm': 'samoan', 'gd': 'scots gaelic', 'sr': 'serbian', 'st': 'sesotho', 'sn': 'shona', 'sd': 'sindhi', 'si': 'sinhala', 'sk': 'slovak', 'sl': 'slovenian', 'so': 'somali', 'es': 'spanish', 'su': 'sundanese', 'sw': 'swahili', 'sv': 'swedish', 'tg': 'tajik', 'ta': 'tamil', 'te': 'telugu', 'th': 'thai', 'tr': 'turkish', 'uk': 'ukrainian', 'ur': 'urdu', 'ug': 'uyghur', 'uz': 'uzbek', 'vi': 'vietnamese', 'cy': 'welsh', 'xh': 'xhosa', 'yi': 'yiddish', 'yo': 'yoruba', 'zu': 'zulu'}\n"
     ]
    }
   ],
   "source": [
    "# Show lenguages\n",
    "print(googletrans.LANGUAGES)"
   ]
  },
  {
   "cell_type": "code",
   "execution_count": 5,
   "id": "36a58510",
   "metadata": {},
   "outputs": [
    {
     "name": "stdout",
     "output_type": "stream",
     "text": [
      "Translated(src=ja, dest=en, text=good morning.It is sunny today., pronunciation=None, extra_data=\"{'confiden...\")\n"
     ]
    },
    {
     "data": {
      "text/plain": [
       "'good morning.It is sunny today.'"
      ]
     },
     "execution_count": 5,
     "metadata": {},
     "output_type": "execute_result"
    }
   ],
   "source": [
    "# create a translator object\n",
    "translator = Translator()\n",
    "\n",
    "translated = translator.translate('おはようございます。今日は晴れです。')\n",
    "\n",
    "print(translated)\n",
    "translated.text"
   ]
  },
  {
   "cell_type": "markdown",
   "id": "4b9d5ef6",
   "metadata": {},
   "source": [
    "### Translate Japanese into English"
   ]
  },
  {
   "cell_type": "code",
   "execution_count": 7,
   "id": "7391ab65",
   "metadata": {},
   "outputs": [
    {
     "data": {
      "text/plain": [
       "'good morning.'"
      ]
     },
     "execution_count": 7,
     "metadata": {},
     "output_type": "execute_result"
    }
   ],
   "source": [
    "translator = Translator()\n",
    "translated_ita = translator.translate('おはようございます。', src='ja', dest='en')\n",
    "translated_ita.text"
   ]
  },
  {
   "cell_type": "markdown",
   "id": "a3b32760",
   "metadata": {},
   "source": [
    "### Translate Spanish into English"
   ]
  },
  {
   "cell_type": "code",
   "execution_count": 8,
   "id": "dbe71774",
   "metadata": {},
   "outputs": [
    {
     "data": {
      "text/plain": [
       "'hello'"
      ]
     },
     "execution_count": 8,
     "metadata": {},
     "output_type": "execute_result"
    }
   ],
   "source": [
    "translator = Translator()\n",
    "translated_ita = translator.translate('hola', src='es', dest='en')\n",
    "translated_ita.text"
   ]
  },
  {
   "cell_type": "code",
   "execution_count": 11,
   "id": "674fde45",
   "metadata": {},
   "outputs": [
    {
     "name": "stdout",
     "output_type": "stream",
     "text": [
      "Introduzca una palabra o frase: Hola esta es mi casa\n"
     ]
    },
    {
     "data": {
      "text/plain": [
       "'Hello this is my house'"
      ]
     },
     "execution_count": 11,
     "metadata": {},
     "output_type": "execute_result"
    }
   ],
   "source": [
    "translator = Translator()\n",
    "translated_ita = translator.translate(input(\"Introduzca una palabra o frase: \"), src='es', dest='en')\n",
    "translated_ita.text"
   ]
  },
  {
   "cell_type": "markdown",
   "id": "8b17a3e9",
   "metadata": {},
   "source": [
    "### Translate English into German"
   ]
  },
  {
   "cell_type": "code",
   "execution_count": 12,
   "id": "ee2d8005",
   "metadata": {},
   "outputs": [
    {
     "name": "stdout",
     "output_type": "stream",
     "text": [
      "Guten Morgen.\n"
     ]
    }
   ],
   "source": [
    "# from english to german\n",
    "translator = Translator()\n",
    "translated = translator.translate('Good morning.', src='en', dest='de')\n",
    "print(translated.text)"
   ]
  },
  {
   "cell_type": "code",
   "execution_count": 13,
   "id": "0d6d8a9d",
   "metadata": {},
   "outputs": [
    {
     "name": "stdout",
     "output_type": "stream",
     "text": [
      "Write a word or sentence: Hello good morning\n"
     ]
    },
    {
     "data": {
      "text/plain": [
       "'Hallo, guten Morgen'"
      ]
     },
     "execution_count": 13,
     "metadata": {},
     "output_type": "execute_result"
    }
   ],
   "source": [
    "translator = Translator()\n",
    "translated_ita = translator.translate(input(\"Write a word or sentence: \"), src='en', dest='de')\n",
    "translated_ita.text"
   ]
  },
  {
   "cell_type": "markdown",
   "id": "b2347b90",
   "metadata": {},
   "source": [
    "### Generating Words"
   ]
  },
  {
   "cell_type": "code",
   "execution_count": 34,
   "id": "15f8a974",
   "metadata": {},
   "outputs": [
    {
     "data": {
      "text/plain": [
       "'punch'"
      ]
     },
     "execution_count": 34,
     "metadata": {},
     "output_type": "execute_result"
    }
   ],
   "source": [
    "silly.verb()"
   ]
  },
  {
   "cell_type": "code",
   "execution_count": 45,
   "id": "ddf43646",
   "metadata": {},
   "outputs": [
    {
     "data": {
      "text/plain": [
       "'club'"
      ]
     },
     "execution_count": 45,
     "metadata": {},
     "output_type": "execute_result"
    }
   ],
   "source": [
    "silly.noun()"
   ]
  },
  {
   "cell_type": "code",
   "execution_count": 55,
   "id": "62e5e0ce",
   "metadata": {},
   "outputs": [
    {
     "data": {
      "text/plain": [
       "'wonderful'"
      ]
     },
     "execution_count": 55,
     "metadata": {},
     "output_type": "execute_result"
    }
   ],
   "source": [
    "silly.adjective()"
   ]
  },
  {
   "cell_type": "code",
   "execution_count": 73,
   "id": "6f61f7a9",
   "metadata": {},
   "outputs": [
    {
     "data": {
      "text/plain": [
       "'hands'"
      ]
     },
     "execution_count": 73,
     "metadata": {},
     "output_type": "execute_result"
    }
   ],
   "source": [
    "silly.plural()"
   ]
  },
  {
   "cell_type": "markdown",
   "id": "e20f331b",
   "metadata": {},
   "source": [
    "### Random Words Translator"
   ]
  },
  {
   "cell_type": "code",
   "execution_count": 95,
   "id": "4aec6a90",
   "metadata": {},
   "outputs": [
    {
     "name": "stdout",
     "output_type": "stream",
     "text": [
      "Hi (en) Translate --> Hola (es)\n"
     ]
    }
   ],
   "source": [
    "translation = translator.translate(\"Hi\", dest=\"es\")\n",
    "print(f\"{translation.origin} ({translation.src}) Translate --> {translation.text} ({translation.dest})\")"
   ]
  },
  {
   "cell_type": "code",
   "execution_count": 107,
   "id": "41628c90",
   "metadata": {},
   "outputs": [
    {
     "name": "stdout",
     "output_type": "stream",
     "text": [
      "flip (en) Translate --> dar la vuelta (es)\n"
     ]
    }
   ],
   "source": [
    "translation = translator.translate(silly.verb(), dest=\"es\")\n",
    "print(f\"{translation.origin} ({translation.src}) Translate --> {translation.text} ({translation.dest})\")"
   ]
  }
 ],
 "metadata": {
  "kernelspec": {
   "display_name": "Python 3 (ipykernel)",
   "language": "python",
   "name": "python3"
  },
  "language_info": {
   "codemirror_mode": {
    "name": "ipython",
    "version": 3
   },
   "file_extension": ".py",
   "mimetype": "text/x-python",
   "name": "python",
   "nbconvert_exporter": "python",
   "pygments_lexer": "ipython3",
   "version": "3.9.12"
  }
 },
 "nbformat": 4,
 "nbformat_minor": 5
}
